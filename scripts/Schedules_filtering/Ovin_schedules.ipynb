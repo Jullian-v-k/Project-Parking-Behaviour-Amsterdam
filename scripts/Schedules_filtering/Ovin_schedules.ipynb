{
 "cells": [
  {
   "cell_type": "code",
   "execution_count": 1,
   "metadata": {},
   "outputs": [],
   "source": [
    "import pandas as pd\n",
    "import numpy as np"
   ]
  },
  {
   "cell_type": "code",
   "execution_count": 2,
   "metadata": {
    "scrolled": true
   },
   "outputs": [
    {
     "name": "stderr",
     "output_type": "stream",
     "text": [
      "C:\\Users\\jullian\\Anaconda3\\lib\\site-packages\\IPython\\core\\interactiveshell.py:3051: DtypeWarning: Columns (34,35,89,90,95,96,97,98,101,102,107,108,109,110,117,130,143,150,165,173,174,179) have mixed types. Specify dtype option on import or set low_memory=False.\n",
      "  interactivity=interactivity, compiler=compiler, result=result)\n"
     ]
    }
   ],
   "source": [
    "folder = 'C:/Users/jullian/Desktop/Jullian/Jullian/Data/DANS/OViN_2011-2017_Final/OViN_2011-2017_Final/'\n",
    "filename = 'OVIN_2011-2017.csv'\n",
    "path = folder + filename\n",
    "ovin = pd.read_csv(path)\n",
    "\n",
    "ovin['VerplNr'] = pd.to_numeric(ovin['VerplNr'],errors = 'coerce')\n",
    "ovin['AankPC'] = pd.to_numeric(ovin['AankPC'],errors = 'coerce')\n",
    "ovin['VertPC'] = pd.to_numeric(ovin['VertPC'],errors = 'coerce')\n",
    "ovin['BuurtAdam'] = pd.to_numeric(ovin['BuurtAdam'],errors = 'coerce')\n",
    "\n",
    "temp['RVertStat'] = temp['RVertStat'].fillna(999)\n",
    "temp['RVertStat'] = temp['RVertStat'].astype(int)\n",
    "temp['RAankStat'] = temp['RAankStat'].fillna(999)\n",
    "temp['RAankStat'] = temp['RAankStat'].astype(int)"
   ]
  },
  {
   "cell_type": "code",
   "execution_count": 4,
   "metadata": {
    "scrolled": true
   },
   "outputs": [],
   "source": [
    "#ovin['OPID'] = ovin['OPID'].astype('str')\n",
    "#ovin['Jaar'] = ovin['Jaar'].astype('str')\n",
    "#ovin['OPID2'] = ovin['OPID'].str.cat(ovin['Jaar'])\n",
    "#print(len(ovin['OPID2']))\n",
    "#print(len(ovin['OPID2'].unique()))\n",
    "#print(len(ovin['OPID'].unique()))"
   ]
  },
  {
   "cell_type": "code",
   "execution_count": 3,
   "metadata": {},
   "outputs": [],
   "source": [
    "# This function creates a column which tells whether the individual made a trip in Amsterdam\n",
    "def Amsterdam_trip(ovin):\n",
    "    #ovin['VerplNr'] = pd.to_numeric(ovin['VerplNr'],errors = 'coerce')\n",
    "    # add column with postal code area of a person's home\n",
    "    #ovin['WoonPC'] = np.where(((ovin['Vertrekp']==int(1)) &  (ovin['VerplNr']==int(1))), ovin['VertPC'], np.NaN)\n",
    "    ovin['Amsterdam_vpl'] = np.where(((ovin['VertGem']== '363') | (ovin['AankGem']=='363')),1,np.NaN)\n",
    "    # persons with same id have same home\n",
    "    #print(ovin[['OPID','Amsterdam_vpl']])\n",
    "    ovin['Amsterdam_vpl'] = ovin[['OPID','Amsterdam_vpl']].groupby('OPID').ffill()\n",
    "    ovin['Amsterdam_vpl'] = ovin[['OPID','Amsterdam_vpl']].groupby('OPID').bfill()\n",
    "    ovin['Amsterdam_vpl'] = ovin['Amsterdam_vpl'].fillna(0)\n",
    "    #print(ovin[['OPID','Amsterdam_vpl']])\n",
    "    return ovin"
   ]
  },
  {
   "cell_type": "code",
   "execution_count": 4,
   "metadata": {},
   "outputs": [],
   "source": [
    "# This function creates \n",
    "def Car_trip(ovin):\n",
    "    # add column with postal code area of a person's home\n",
    "    #ovin['WoonPC'] = np.where(((ovin['Vertrekp']==int(1)) &  (ovin['VerplNr']==int(1))), ovin['VertPC'], np.NaN)\n",
    "    ovin['car_trip'] = np.where((ovin['RVm']== '6'),1,np.NaN)\n",
    "    # persons with same id have same home\n",
    "    ovin['car_trip'] = ovin[['OPID','car_trip']].groupby('OPID').ffill()\n",
    "    ovin['car_trip'] = ovin[['OPID','car_trip']].groupby('OPID').bfill()\n",
    "    ovin['car_trip'] = ovin['car_trip'].fillna(0)\n",
    "    #print(ovin[['OPID','car_trip']])\n",
    "    return ovin"
   ]
  },
  {
   "cell_type": "code",
   "execution_count": 5,
   "metadata": {},
   "outputs": [],
   "source": [
    "def thuislocatie(ovin):\n",
    "    ovin['home'] = np.where(((ovin['VerplNr'] == 1) & (ovin['Vertrekp'] == 1)),ovin['VertPC'],np.NaN)\n",
    "    ovin['home'] = ovin[['OPID','home']].groupby('OPID').ffill()\n",
    "    ovin['home'] = ovin['home'].fillna(0)\n",
    "    return ovin"
   ]
  },
  {
   "cell_type": "code",
   "execution_count": 21,
   "metadata": {},
   "outputs": [],
   "source": [
    "def Amsterdam_treinstation(ovin):\n",
    "    ovin['Amsterdam_vertrekstation'] = np.where(((ovin['RVertStat'] >= 234) & (ovin['RVertStat'] <= 243))|(ovin['RVertStat'] == 250)|(ovin['RVertStat'] == 519)|(ovin['RVertStat'] == 602),ovin['RVertStat'],999)\n",
    "    #ovin['Amsterdam_vertrekstation'] = ovin['Amsterdam_vertrekstation'].fillna(999)\n",
    "    ovin['Amsterdam_aankomststation'] = np.where(((ovin['RAankStat'] >= 234) & (ovin['RAankStat'] <= 243))|(ovin['RAankStat'] == 250)|(ovin['RAankStat'] == 519)|(ovin['RAankStat'] == 602),ovin['RAankStat'],999)\n",
    "    #ovin['Amsterdam_aankomststation'] = ovin['Amsterdam_aankomststation'].fillna(999)\n",
    "    return ovin"
   ]
  },
  {
   "cell_type": "code",
   "execution_count": 22,
   "metadata": {},
   "outputs": [],
   "source": [
    "temp = Amsterdam_trip(ovin)\n",
    "temp = Car_trip(temp)\n",
    "temp = thuislocatie(temp)\n",
    "temp = Amsterdam_treinstation(temp)"
   ]
  },
  {
   "cell_type": "code",
   "execution_count": 7,
   "metadata": {},
   "outputs": [
    {
     "name": "stdout",
     "output_type": "stream",
     "text": [
      "15514\n"
     ]
    },
    {
     "data": {
      "text/plain": [
       "4966"
      ]
     },
     "execution_count": 7,
     "metadata": {},
     "output_type": "execute_result"
    }
   ],
   "source": [
    "l = temp[temp['Amsterdam_vpl']==1]\n",
    "print(len(l['OPID'].unique())) # aantal individuen die een verplaatsing in Amsterdam heeft gemaakt.\n",
    "l = l[l['car_trip']==1]\n",
    "len(l['OPID'].unique()) #aantal individuen die met de auto een verplaatsing in Amsterdam hebben gedaan. "
   ]
  },
  {
   "cell_type": "code",
   "execution_count": 27,
   "metadata": {
    "scrolled": false
   },
   "outputs": [
    {
     "name": "stderr",
     "output_type": "stream",
     "text": [
      "C:\\Users\\jullian\\Anaconda3\\lib\\site-packages\\ipykernel_launcher.py:27: FutureWarning: The signature of `Series.to_csv` was aligned to that of `DataFrame.to_csv`, and argument 'header' will change its default value from False to True: please pass an explicit value to suppress this warning.\n",
      "C:\\Users\\jullian\\Anaconda3\\lib\\site-packages\\ipykernel_launcher.py:28: FutureWarning: The signature of `Series.to_csv` was aligned to that of `DataFrame.to_csv`, and argument 'header' will change its default value from False to True: please pass an explicit value to suppress this warning.\n"
     ]
    }
   ],
   "source": [
    "Filtered_ovin = temp[((temp['Amsterdam_vpl']== 1) & (temp['car_trip']== 1))]\n",
    "PC4_Amsterdam = np.where(Filtered_ovin['BuurtAdam'] != 0,Filtered_ovin['home'],0)\n",
    "PC4_Amsterdam = np.unique(PC4_Amsterdam)\n",
    "\n",
    "# count how many individuals travelled to a specific AankPC \n",
    "count_AankPC = Filtered_ovin.groupby('AankPC').OPID.nunique()[PC4_Amsterdam]\n",
    "count_VertPC = Filtered_ovin.groupby('VertPC').OPID.nunique()[PC4_Amsterdam]\n",
    "count_BuurtAdam = Filtered_ovin.groupby('BuurtAdam').OPID.nunique()\n",
    "count_Aankomststation = Filtered_ovin.groupby('Amsterdam_aankomststation').OPID.nunique()\n",
    "count_Vertrekstation = Filtered_ovin.groupby('Amsterdam_vertrekstation').OPID.nunique()\n",
    "\n",
    "# Filter the counts on amsterdam PC\n",
    "#count_AankPC\n",
    "#count_BuurtAdam\n",
    "#count_AankPC\n",
    "#count_Aankomststation\n",
    "#count_Vertrekstation\n",
    "#PC4_Amsterdam\n",
    "#Filtered_ovin.groupby('AankPC').OPID.nunique()\n",
    "\n",
    "#print(Filtered_ovin['AankPC'].value_counts())\n",
    "#print(Filtered_ovin['BuurtAdam'].value_counts())\n",
    "\n",
    "#count_AankPC.to_csv(r'C:\\Users\\jullian\\Desktop\\Jullian\\Jullian\\Data\\SimPark\\Jullian\\Schedules_filtering\\AankPC_count.csv')\n",
    "#count_VertPC.to_csv(r'C:\\Users\\jullian\\Desktop\\Jullian\\Jullian\\Data\\SimPark\\Jullian\\Schedules_filtering\\VertPC_count.csv')\n",
    "#count_BuurtAdam.to_csv(r'C:\\Users\\jullian\\Desktop\\Jullian\\Jullian\\Data\\SimPark\\Jullian\\Schedules_filtering\\BuurtAdam_count.csv')\n",
    "count_Aankomststation.to_csv(r'C:\\Users\\jullian\\Desktop\\Jullian\\Jullian\\Data\\SimPark\\Jullian\\Schedules_filtering\\Aankomststation_count.csv')\n",
    "count_Vertrekstation.to_csv(r'C:\\Users\\jullian\\Desktop\\Jullian\\Jullian\\Data\\SimPark\\Jullian\\Schedules_filtering\\Vertrekstation_count.csv')\n",
    "#Filtered_ovin.to_csv(r'C:\\Users\\jullian\\Desktop\\Jullian\\Jullian\\Data\\SimPark\\Jullian\\Schedules_filtering\\Filtered_ovin.csv')"
   ]
  },
  {
   "cell_type": "code",
   "execution_count": 23,
   "metadata": {
    "scrolled": false
   },
   "outputs": [
    {
     "data": {
      "text/plain": [
       "array([999, 237, 240, 243, 239, 242, 238, 602, 234], dtype=int64)"
      ]
     },
     "execution_count": 23,
     "metadata": {},
     "output_type": "execute_result"
    }
   ],
   "source": []
  },
  {
   "cell_type": "code",
   "execution_count": 13,
   "metadata": {},
   "outputs": [
    {
     "data": {
      "text/html": [
       "<div>\n",
       "<style scoped>\n",
       "    .dataframe tbody tr th:only-of-type {\n",
       "        vertical-align: middle;\n",
       "    }\n",
       "\n",
       "    .dataframe tbody tr th {\n",
       "        vertical-align: top;\n",
       "    }\n",
       "\n",
       "    .dataframe thead th {\n",
       "        text-align: right;\n",
       "    }\n",
       "</style>\n",
       "<table border=\"1\" class=\"dataframe\">\n",
       "  <thead>\n",
       "    <tr style=\"text-align: right;\">\n",
       "      <th></th>\n",
       "      <th>OPID</th>\n",
       "      <th>Amsterdam_vpl</th>\n",
       "    </tr>\n",
       "  </thead>\n",
       "  <tbody>\n",
       "    <tr>\n",
       "      <th>0</th>\n",
       "      <td>11101001</td>\n",
       "      <td>0.0</td>\n",
       "    </tr>\n",
       "    <tr>\n",
       "      <th>1</th>\n",
       "      <td>11101001</td>\n",
       "      <td>0.0</td>\n",
       "    </tr>\n",
       "    <tr>\n",
       "      <th>2</th>\n",
       "      <td>11101002</td>\n",
       "      <td>0.0</td>\n",
       "    </tr>\n",
       "    <tr>\n",
       "      <th>3</th>\n",
       "      <td>11101003</td>\n",
       "      <td>0.0</td>\n",
       "    </tr>\n",
       "    <tr>\n",
       "      <th>4</th>\n",
       "      <td>11101003</td>\n",
       "      <td>0.0</td>\n",
       "    </tr>\n",
       "    <tr>\n",
       "      <th>...</th>\n",
       "      <td>...</td>\n",
       "      <td>...</td>\n",
       "    </tr>\n",
       "    <tr>\n",
       "      <th>908380</th>\n",
       "      <td>17451072</td>\n",
       "      <td>0.0</td>\n",
       "    </tr>\n",
       "    <tr>\n",
       "      <th>908381</th>\n",
       "      <td>17451072</td>\n",
       "      <td>0.0</td>\n",
       "    </tr>\n",
       "    <tr>\n",
       "      <th>908382</th>\n",
       "      <td>17451072</td>\n",
       "      <td>0.0</td>\n",
       "    </tr>\n",
       "    <tr>\n",
       "      <th>908383</th>\n",
       "      <td>17451072</td>\n",
       "      <td>0.0</td>\n",
       "    </tr>\n",
       "    <tr>\n",
       "      <th>908384</th>\n",
       "      <td>17452115</td>\n",
       "      <td>0.0</td>\n",
       "    </tr>\n",
       "  </tbody>\n",
       "</table>\n",
       "<p>908385 rows × 2 columns</p>\n",
       "</div>"
      ],
      "text/plain": [
       "            OPID  Amsterdam_vpl\n",
       "0       11101001            0.0\n",
       "1       11101001            0.0\n",
       "2       11101002            0.0\n",
       "3       11101003            0.0\n",
       "4       11101003            0.0\n",
       "...          ...            ...\n",
       "908380  17451072            0.0\n",
       "908381  17451072            0.0\n",
       "908382  17451072            0.0\n",
       "908383  17451072            0.0\n",
       "908384  17452115            0.0\n",
       "\n",
       "[908385 rows x 2 columns]"
      ]
     },
     "execution_count": 13,
     "metadata": {},
     "output_type": "execute_result"
    }
   ],
   "source": [
    "#pd.crosstab(Filtered_ovin['VertGem'],Filtered_ovin['AankGem'])\n",
    "ovin[['OPID','Amsterdam_vpl']]"
   ]
  },
  {
   "cell_type": "code",
   "execution_count": null,
   "metadata": {},
   "outputs": [],
   "source": []
  }
 ],
 "metadata": {
  "kernelspec": {
   "display_name": "Python 3",
   "language": "python",
   "name": "python3"
  },
  "language_info": {
   "codemirror_mode": {
    "name": "ipython",
    "version": 3
   },
   "file_extension": ".py",
   "mimetype": "text/x-python",
   "name": "python",
   "nbconvert_exporter": "python",
   "pygments_lexer": "ipython3",
   "version": "3.7.3"
  }
 },
 "nbformat": 4,
 "nbformat_minor": 2
}
